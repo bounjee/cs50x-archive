{
 "cells": [
  {
   "cell_type": "markdown",
   "id": "424e8284",
   "metadata": {},
   "source": [
    "# **C Programlama Dili**"
   ]
  },
  {
   "cell_type": "markdown",
   "id": "111aaea1",
   "metadata": {},
   "source": [
    "Bugün yeni bir dil öğreneceğiz, C: Scratch'in **tüm özelliklerine ve daha fazlasına** sahip olan, ancak tamamen **metin olduğu için belki biraz daha az kolay olan** bir programlama dili.\n",
    "\n",
    "CS50x sonunda **hedefimiz belirli bir programlama dilini öğrenmek değil, nasıl programlanacağını öğrenmektir.**\n",
    "\n",
    "Koddaki **yapı, noktalama işaretleri ve sembollerle ilgili** sözdizimi veya kurallar, her şeyin ne yaptığını hemen anlamasak bile bize tanıdık gelecektir.\n"
   ]
  },
  {
   "cell_type": "markdown",
   "id": "132df0f7",
   "metadata": {},
   "source": [
    "Scratch ile **aşağıdakiler gibi** bazı programlama fikirlerini araştırdık:\n",
    "\n",
    "- functions\n",
    "    - arguments, return values\n",
    "- conditionals\n",
    "- Boolean expressions\n",
    "- loops\n",
    "- variables\n",
    "- …\n"
   ]
  },
  {
   "cell_type": "markdown",
   "id": "c27efd68",
   "metadata": {},
   "source": [
    "Bugün, bu fikirlerden bazılarını, yeni sözdizimi ve daha kesinliğe sahip bir bilgisayar dili olan **C'ye çevireceğiz,** ancak öğrenilecek kelime bir insan dilinin içerebileceğinden daha az olabilir.\n"
   ]
  },
  {
   "cell_type": "markdown",
   "id": "0699a9ef",
   "metadata": {},
   "source": [
    "Kodumuzun **kalitesini değerlendirirken** aşağıdaki hususları dikkate alabiliriz:\n",
    "- **Doğruluk** veya kodumuzun sorunumuzu doğru çözüp çözmediği.\n",
    "- **Kodu tasarlamak** ne kadar verimli ve okunabilir olduğuna bağlı olarak tasarım veya kodumuzun ne kadar iyi yazılmış olduğu.\n",
    "- **Stil** veya kodumuzun görsel olarak ne kadar iyi biçimlendirildiği\n"
   ]
  },
  {
   "cell_type": "markdown",
   "id": "9e22dc08",
   "metadata": {},
   "source": [
    "Ekrana basitçe **“merhaba dünya”** yazdıran **C dilindeki** ilk programımız şöyle görünür:"
   ]
  },
  {
   "cell_type": "raw",
   "id": "a948cadb",
   "metadata": {},
   "source": [
    "#include <stdio.h>\n",
    "\n",
    "int main(void)\n",
    "{\n",
    "    printf(\"hello, world\\n\");\n",
    "}"
   ]
  },
  {
   "cell_type": "markdown",
   "id": "e298819c",
   "metadata": {},
   "source": [
    "## **IDE'ler, derleyiciler, arayüzler**"
   ]
  },
  {
   "cell_type": "markdown",
   "id": "aa76c0b1",
   "metadata": {},
   "source": [
    "Bu kodu bilgisayarımızın gerçekten çalıştırabileceği bir programa dönüştürmek için önce onu binary sisteme veya sıfırlar ve birlere çevirmemiz gerekiyor.\n",
    "\n",
    "IDE adı verilen araçlar, [entegre geliştirme ortamları](https://tr.wikipedia.org/wiki/Integrated_development_environment) kodumuzu yazmamız, çevirmemiz ve çalıştırmamız için özellikler içerecektir.\n",
    "\n",
    "Popüler bir IDE, [Visual Studio Code](https://tr.wikipedia.org/wiki/Visual_Studio_Code), bir metin düzenleyici veya kodumuzu düz metin olarak yazıp bir dosyaya kaydedebileceğimiz bir alan içerir:<img src=\"images/text_editor.png\" style=\"width:291px;height:161px\"/>\n",
    "\n"
   ]
  },
  {
   "cell_type": "markdown",
   "id": "c98c3ef6",
   "metadata": {},
   "source": [
    "Artık kaynak kodumuz veya okuyup yazabildiğimiz kod, **hello.c** adlı bir dosyaya kaydedilir. Ardından, onu makine koduna veya bilgisayarımıza düşük seviyeli işlemler yapmasını söyleyen talimatları temsil eden **sıfırlar ve birlere** dönüştürmemiz gerekiyor.\n"
   ]
  },
  {
   "cell_type": "markdown",
   "id": "1b4360cb",
   "metadata": {},
   "source": [
    "[Derleyici](https://tr.wikipedia.org/wiki/Derleyici), **kaynak kodundan makine koduna** gibi bir dili diğerine dönüştürebilen bir programdır:<img src=\"images/compiler.png\" style=\"width:300px;height:131px\"/>\n"
   ]
  },
  {
   "cell_type": "markdown",
   "id": "4a75c43c",
   "metadata": {},
   "source": [
    "VSC olarak da adlandırılan **Visual Studio Code**, genellikle kendi Mac veya PC'mize indirebileceğimiz bir programdır, ancak hepimizin farklı sistemleri olduğundan, yalnızca bir tarayıcıyla erişebileceğimiz **bulut tabanlı bir VS Code** sürümüyle başlamak daha kolay.\n",
    "\n",
    "**VS Code** arayüzünün **alt yarısında,** içine metin komutları yazıp çalıştırabileceğimiz bir pencere olan bir **terminal** görüyoruz:<img src=\"images/terminal.png\" style=\"width:10000px;height:111px\"/>\n",
    "Bu terminal, **kendi işletim sistemi**, bir dizi dosya ve tarayıcı aracılığıyla eriştiğimiz diğer yüklü programlar ile **kendi sanal sunucumuza** bağlanacaktır.\n",
    "\n",
    "\n"
   ]
  },
  {
   "cell_type": "markdown",
   "id": "18b5db0e",
   "metadata": {},
   "source": [
    "Terminal, bir komut satırı arabirimi veya **command-line interface** sağlar ve sanal sunucunun işletim sistemi olan [Linux'a](https://tr.wikipedia.org/wiki/Linux) erişmemizi sağlar.\n",
    "\n",
    "**./hello,** bilgisayarımıza hello adlı mevcut klasörümüzde (.) bir dosya bulmasını ve çalıştırmasını söyler. Ve gerçekten de beklediğimiz çıktıyı görüyoruz.\n"
   ]
  },
  {
   "cell_type": "markdown",
   "id": "1cb60054",
   "metadata": {},
   "source": [
    "## **Fonksiyonlar, argümanlar, dönüş değerleri, değişkenler**"
   ]
  },
  {
   "cell_type": "raw",
   "id": "21905b1d",
   "metadata": {},
   "source": [
    "printf(\"hello, world\");"
   ]
  },
  {
   "cell_type": "markdown",
   "id": "a314bc45",
   "metadata": {},
   "source": [
    "**printf'deki f**, yakında tekrar göreceğimiz **\"biçimlendirilmiş\"** bir dizgiyi ifade eder. Ve bir dize, metin olarak ele almak istediğimiz bir dizi karakter veya kelimedir. C'de, dizeleri çift tırnak (**\" \"**) ile çevrelememiz gerekir.\n",
    "\n",
    "**\"( )\"** parantezler, printf işlevimize bir argüman veya girdi vermemize izin verir.\n",
    "\n",
    "Son olarak, ifademizin veya kod satırının sonunu belirtmek için noktalı virgül **( ; )** gerekir.\n",
    "\n"
   ]
  },
  {
   "cell_type": "raw",
   "id": "161df44f",
   "metadata": {},
   "source": [
    "string answer = get_string(\"What's your name? \");\n",
    "\n",
    "* get_string cs50 içindeki input alma yöntemidir -- scanf veya python'daki int(input) gibi"
   ]
  },
  {
   "cell_type": "markdown",
   "id": "5641af65",
   "metadata": {},
   "source": [
    "Ardından, dönüş değerini **answer =** ile bir değişkene kaydederiz. Burada **iki tarafın eşit olup olmadığını sormuyoruz,** bunun yerine **sol tarafı sağdaki değere ayarlamak için atama operatörü olarak** *( = )*  kullanıyoruz.\n",
    "\n",
    "Son olarak, cevabın **string tipinde** bir değişken olduğunu C'de belirtmemiz gerekiyor. Başka bir tür olan **int, tamsayı veya tam sayının kısaltmasıdır.** Yakında diğer türleri de göreceğiz, ancak programımız farklı baytları bu şekilde yorumlayacaktır.\n",
    "\n",
    "- Bir değişkene **farklı türde bir değer koymaya çalışırsak derleyici bize hata** verecektir.\n",
    "    - Örnek olarak : int \"yazi\" veya string 5\n",
    "\n",
    "\n"
   ]
  },
  {
   "cell_type": "markdown",
   "id": "8102c18c",
   "metadata": {},
   "source": [
    "**C dilindeki** veri türleri:<img src=\"images/deger_tipleri.png\" style=\"width:400px;height:300px\"/>\n",
    "\n",
    "Fakat **giriş seviyesinde** genel olarak kullanılacak deger,veri tipleri; **int,float,string,double,char**\n"
   ]
  },
  {
   "cell_type": "raw",
   "id": "bbd2a017",
   "metadata": {},
   "source": [
    "#include <stdio.h>\n",
    "\n",
    "int main(void)\n",
    "{\n",
    "    printf(\"hello, world\n",
    "    \");\n",
    "}\n",
    "\n",
    "\n",
    "ERROR CODE : $ make hello\n",
    "hello.c:5:12: error: missing terminating '\"' character [-Werror,-Winvalid-pp-token]\n",
    "    printf(\"hello, world\n",
    "          ^\n",
    "hello.c:5:12: error: expected expression\n",
    "hello.c:6:5: error: missing terminating '\"' character [-Werror,-Winvalid-pp-token]\n",
    "    \");\n",
    "    ^\n",
    "hello.c:7:2: error: expected '}'\n",
    "}\n",
    "^\n",
    "hello.c:4:1: note: to match this '{'\n",
    "{\n",
    "^\n",
    "4 errors generated.\n",
    "make: *** [<builtin>: hello] Error 1"
   ]
  },
  {
   "cell_type": "markdown",
   "id": "53ba44db",
   "metadata": {},
   "source": [
    "Derleyiciler gibi bu araçların birçoğu orijinal olarak yıllar önce yazıldığından, hata mesajları kısa ve istediğimiz kadar kullanıcı dostu değil, ancakdizemizi aynı satırda bir **\"** ile kapatmamız gerekiyor gibi görünüyor.\n",
    "\n",
    "\n",
    "**printf(\"hello, world\"  \n",
    "    );**  olarak değiştirmemiz lazım"
   ]
  },
  {
   "cell_type": "markdown",
   "id": "0e15e4ce",
   "metadata": {},
   "source": [
    "Yeni bir satır oluşturmak için **\\n'yi kullandığımızda,** bir kaçış dizisi veya dizgemizde farklı bir ifadeyi belirtmenin bir yolunu kullanırız. **C'de, kaçış dizileri bir ters eğik çizgi, \\ ile başlar.**"
   ]
  },
  {
   "cell_type": "raw",
   "id": "a0b1f109",
   "metadata": {},
   "source": [
    "Girdi : Hello\\n World \n",
    "    \n",
    "Çıktı : Hello\n",
    "         World"
   ]
  },
  {
   "cell_type": "markdown",
   "id": "43644f25",
   "metadata": {},
   "source": [
    "**int,float,string,double,char** ve benzeri komutları kullanabilmek için kütüphaneleri yüklememiz lazım.\n",
    "Yukarıdaki örnekler için **:** **#include <stdio.h>**  \n",
    "-- *standart input-output*"
   ]
  },
  {
   "cell_type": "markdown",
   "id": "6d220f22",
   "metadata": {},
   "source": [
    "Linux'ta, VSC CLI(terminal) kısmında kullanabileceğimiz birkaç komut vardır:\n",
    "\n",
    "- **cd,** geçerli dizinimizi (klasör) değiştirmek için\n",
    "- **cp,** dosya ve dizinleri kopyalamak için\n",
    "- **mv,** dosya ve dizinleri taşımak (yeniden adlandırmak) için\n",
    "- **rm,** dosyaları silmek için\n",
    "- **rmdir,** dizinleri kaldırmak (silmek) için\n",
    "\n",
    "\n",
    "\n"
   ]
  },
  {
   "cell_type": "markdown",
   "id": "fd93dba7",
   "metadata": {},
   "source": [
    "printf için de, her tür için **biçim kodları** adı verilen farklı yer tutucular vardır:\n",
    "\n",
    "- **%c** char için\n",
    "- **%f** float için\n",
    "- **%i** integer için\n",
    "- **%li** long integer için\n",
    "- **%s** string için"
   ]
  },
  {
   "cell_type": "markdown",
   "id": "d4481443",
   "metadata": {},
   "source": [
    "Matematik operatörleri:\n",
    "    \n",
    "- **+** toplama için\n",
    "- **-** çıkarma için\n",
    "- yıldız(*) çarpma için\n",
    "- **/** bölme için\n",
    "- **%** kalan bulma için"
   ]
  },
  {
   "cell_type": "markdown",
   "id": "a93e1b4c",
   "metadata": {},
   "source": [
    "## **Koşullar, Boolean ifadeleri**\n"
   ]
  },
  {
   "cell_type": "markdown",
   "id": "3979649f",
   "metadata": {},
   "source": [
    "Koşullar: **if, if-else, else** olarak 3'e ayrılıyor:\n",
    "\n",
    "**if** (x < y) **# eğer -  x y'den küçükse**\n",
    "\n",
    "{\n",
    "\n",
    "    printf(\"x is less than y\\n\");\n",
    "    \n",
    "}\n",
    "\n",
    "**else if** (x > y) **# veya -  x y'den büyükse**\n",
    "\n",
    "{\n",
    "\n",
    "    printf(\"x is greater than y\\n\");\n",
    "    \n",
    "}\n",
    "\n",
    "**else** (x == y) **# değilse - x y'ye eşitse**\n",
    "\n",
    "{\n",
    "\n",
    "    printf(\"x is equal to y\\n\");\n",
    "    \n",
    "}\n",
    "    \n",
    "    "
   ]
  },
  {
   "cell_type": "markdown",
   "id": "be88d084",
   "metadata": {},
   "source": [
    "## **Döngüler, fonksiyonlar**"
   ]
  },
  {
   "cell_type": "raw",
   "id": "b1d712bd",
   "metadata": {},
   "source": [
    "#include <stdio.h>\n",
    "\n",
    "int main(void)\n",
    "{\n",
    "    printf(\"meow\\n\");\n",
    "    printf(\"meow\\n\");\n",
    "    printf(\"meow\\n\");\n",
    "}"
   ]
  },
  {
   "cell_type": "markdown",
   "id": "ac34aacc",
   "metadata": {},
   "source": [
    "bu şekilde bir program yazdığımızda alt alta 3 defa **meow** yazdığını göreceğiz fakat bu **güzel tasarlanmış** bir kod değil o yüzden **döngüleri** kullanacağız.\n",
    "\n",
    "Döngüler : do-while,while,for olarak 3'e ayrılıyor. \n",
    "- **Do-while :** yap-kontrol et mantığında çalışıyor.\n",
    "- **While,for :** yazılan fonksiyon,değeri çalıştırır.\n",
    "\n"
   ]
  },
  {
   "cell_type": "markdown",
   "id": "91cc49cd",
   "metadata": {},
   "source": [
    "Üst kısımda verdiğim **meow** programını **while,for** döngüsü kullanarak daha kısa sürede güzel tasarlanmış bir şekilde yazabilir."
   ]
  },
  {
   "cell_type": "raw",
   "id": "c49a9957",
   "metadata": {},
   "source": [
    "while (true)\n",
    "{\n",
    "    printf(\"meow\\n\");\n",
    "}"
   ]
  },
  {
   "cell_type": "markdown",
   "id": "52493c6d",
   "metadata": {},
   "source": [
    "Fakat böyle bir döngünün bitiş noktası olmadığı için ekrana sürekli olarak **meow** yazdıracak ve **programın çökmesine** neden olucak, bu hatadan kurtulmak için programa **bitiş değeri vermeliyiz.**\n"
   ]
  },
  {
   "cell_type": "raw",
   "id": "101be676",
   "metadata": {},
   "source": [
    "WHILE KULLANARAK :\n",
    "\n",
    "int counter = 0; // Sayacı 0 olarak başlatıyoruz.\n",
    "while (counter < 3) // Sayaç 3 olana kadar devam et diyoruz.\n",
    "{\n",
    "    printf(\"meow\\n\");\n",
    "    counter = counter + 1; // Her meow fonksiyonunu yazdırdıktan sonra sayacımızı 1 arttır diyoruz, bu sayede 0,1,2 olarak 3 adet **meow** değeri yazdırılacaktır.\n",
    "}\n",
    "\n",
    "counter = counter + 1; kısmını -> counter++; ||(veya) counter += 1 olarak kısaltabiliriz."
   ]
  },
  {
   "cell_type": "raw",
   "id": "d710b546",
   "metadata": {},
   "source": [
    "FOR KULLANARAK : \n",
    "\n",
    "int main(void)\n",
    "{\n",
    "    for (int i = 0; i < 3; i++) // While'de yaptığımız işlemleri tek satırda yapıyoruz.\n",
    "    {\n",
    "        printf(\"meow\\n\");\n",
    "    }\n",
    "}"
   ]
  },
  {
   "cell_type": "markdown",
   "id": "7806149f",
   "metadata": {},
   "source": [
    "**Kendi fonksiyonumuzu** tanımlamak için:"
   ]
  },
  {
   "cell_type": "raw",
   "id": "7d8a7123",
   "metadata": {},
   "source": [
    "#include <stdio.h>\n",
    "\n",
    "void meow(int n); // programın fonksiyonu tanıması için fonksiyonumuzu tanıtıyoruz.\n",
    "\n",
    "int main(void)\n",
    "{\n",
    "    meow(3); // fonksiyonumuzu çağırıp,değer veriyoruz\n",
    "}\n",
    "\n",
    "void meow(int n) // fonksiyonumuzu çağırıyoruz\n",
    "{\n",
    "    for (int i = 0; i < n; i++)\n",
    "    {\n",
    "        printf(\"meow\\n\");\n",
    "    }\n",
    "}"
   ]
  },
  {
   "cell_type": "markdown",
   "id": "de8f33ae",
   "metadata": {},
   "source": [
    "**void =** boş, değer döndürmeyecek anlamına gelir.\n",
    "\n",
    "**main =** kodumuzu başlatan,uygulayan kısım.\n",
    "\n",
    "**// =** koda yorum satırı eklememize yarar, koda etkisi yoktur okunabilirlik açısından önemlidir."
   ]
  },
  {
   "cell_type": "markdown",
   "id": "91760074",
   "metadata": {},
   "source": [
    "printf(\"%.50f\\n\", deger) // yazarak float değerimizin **,'den sonraki 50 basamağını** gösterebiliriz fakat burda bir problem ortaya çıkıyor.\n",
    "\n",
    "**floating-point imprecision** float değer kayması olarak bilinir:"
   ]
  },
  {
   "cell_type": "raw",
   "id": "93625bec",
   "metadata": {},
   "source": [
    "#include <stdio.h>\n",
    "\n",
    "int main(void)\n",
    "{\n",
    "    \n",
    "    float x = 2\n",
    "\n",
    "    \n",
    "    float y = 3\n",
    "\n",
    "    \n",
    "    float deger = x / y;\n",
    "\n",
    "    printf(\"%.50f\\n\", deger);\n",
    "}"
   ]
  },
  {
   "cell_type": "markdown",
   "id": "f862f9e4",
   "metadata": {},
   "source": [
    "olarak kodu başlattığımızda, sonuç olarak:\n",
    "    \n",
    "**0.66666668653488159179687500000000000000000000000000** gibi bir değer göreceğiz ve **bu doğru değil,** açıklaması için [bu](https://www.youtube.com/shorts/s9F8pu5KfyM) videoyu izleyebilirsiniz.\n"
   ]
  },
  {
   "cell_type": "markdown",
   "id": "9a17cfdb",
   "metadata": {},
   "source": [
    "## **PSET Açıklaması**"
   ]
  },
  {
   "cell_type": "markdown",
   "id": "38f6e720",
   "metadata": {},
   "source": [
    "- PSET : Problem Setleri, neredeyse her dersin sonunda o ders ve öncesinde verilen derslerde öğrendiğiniz şeyleri pratiğe dökebileceğiniz uygulamalardır.\n",
    "    \n",
    "    - İlk olarak açıklamada verilen [Buraya tıklayınız](https://cs50.harvard.edu/x/2022/psets/1/#what-to-do) kısımdaki şartları yerine getirmelisiniz.\n",
    "    - Daha sonra açıklamada verilen [Buraya tıklayınız](https://cs50.harvard.edu/x/2022/psets/1/#what-to-do) kısımdaki program şartlarını yerine getirip, programı [Github](https://github.com/) üzerinden göndermeniz gerekli.\n",
    "\n"
   ]
  },
  {
   "cell_type": "code",
   "execution_count": null,
   "id": "e6dc6299",
   "metadata": {},
   "outputs": [],
   "source": []
  }
 ],
 "metadata": {
  "kernelspec": {
   "display_name": "Python 3 (ipykernel)",
   "language": "python",
   "name": "python3"
  },
  "language_info": {
   "codemirror_mode": {
    "name": "ipython",
    "version": 3
   },
   "file_extension": ".py",
   "mimetype": "text/x-python",
   "name": "python",
   "nbconvert_exporter": "python",
   "pygments_lexer": "ipython3",
   "version": "3.9.12"
  }
 },
 "nbformat": 4,
 "nbformat_minor": 5
}
