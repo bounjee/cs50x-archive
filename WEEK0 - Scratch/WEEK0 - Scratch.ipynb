{
 "cells": [
  {
   "cell_type": "markdown",
   "id": "7f3c52b2",
   "metadata": {},
   "source": [
    "# **CS50 Hakkında**"
   ]
  },
  {
   "cell_type": "markdown",
   "id": "5daf3829",
   "metadata": {},
   "source": [
    "Eğer benim CS50 notlarımı okuyorsanız ve **CS50 derslerine veya yazılım derslerine başlamak istiyorsanız** *dersleri anlamanız* için bir kaç gereksinim var:\n",
    "- **Ders Takip** **:** Dersi [EDX](https://www.edx.org/course/introduction-computer-science-harvardx-cs50x)'den takip ederek, ders esnasında ingilizce altyazılara ve ders notlarına ulaşabilirsiniz.\n",
    "- **Yeterli Düzeyde İngilizce** **:** B2 ve [teknik ingilizce terimlerine](https://bim.hku.edu.tr/bilgisayar-terimler-sozlugu/) hakim olmalısınız.\n",
    "- **Not** **:** Ders esnasında gerekli yerlerde not almalı ve bilmediğiniz ingilizce kelimeleri araştırmalısınız.\n",
    "- **Eklenti** **:** [GlotDojo](https://chrome.google.com/webstore/detail/glotdojo-learn-languages/dbnjpielondlkmdjbembloegkaabfakc) eklentisini Chrome,Brave,Opera gibi tarayıcılarınıza kurarak ders esnasında anlamadığınız kelimeleri anlık olarak çevirebilirsiniz.\n",
    "- **Türkçe Altyazı Dosyası :** .txt olarak WEEK0'ın türkçe altyazı dosyasına [Bu link](https://we.tl/t-HKTixIVgcf)'ten ulaşabilirsiniz."
   ]
  },
  {
   "cell_type": "markdown",
   "id": "71b9902b",
   "metadata": {},
   "source": [
    "### **WEEK0 - Scratch**\n",
    "\n",
    "Bu seride **CS50** derslerinin **notlarını ve kendi notlarımı paylaşacağım.**\n",
    "\n",
    "CS50’s **Introduction to Computer Science :** Bilgisayar Bilimi'nin temellerini, bilgisayarın nasıl çalıştığını anlatan **Harvard University,David J. Malan** tarafından verilen bir eğitim dersidir, ayrıca seri boyunca *C,Python,JS* gibi yazılım dillerine ve ayrıca *HTML,CSS* gibi dillere de giriş yapılıyor."
   ]
  },
  {
   "cell_type": "markdown",
   "id": "e1794b4c",
   "metadata": {},
   "source": [
    "## **Bilgisayar Bilimleri Nedir ?**"
   ]
  },
  {
   "cell_type": "markdown",
   "id": "9a808de0",
   "metadata": {},
   "source": [
    "Bilgisayar bilimi temelinde **problem çözme** yönetimidir ancak *kesin ve metodik* olunması gerekir.\n",
    "\n",
    "\n",
    "Problem çözmeyi bir miktar **girdi alma** (çözmek istediğimiz bir problem) ve bir miktar **çıktı üretme** (problemimizin çözümü) süreci olarak düşünebiliriz.\n"
   ]
  },
  {
   "cell_type": "markdown",
   "id": "5cb55f6c",
   "metadata": {},
   "source": [
    "<img src=\"images/input_output.png\" style=\"width:400px;height:200px\"/>"
   ]
  },
  {
   "cell_type": "markdown",
   "id": "d848eff8",
   "metadata": {},
   "source": [
    "Bunu yapmaya başlamak için **girdileri ve çıktıları** temsil edecek bir yola ihtiyacımız olacak, böylece bilgileri **standart bir şekilde** depolayabilir ve bunlarla **çalışabiliriz.**"
   ]
  },
  {
   "cell_type": "markdown",
   "id": "1d2f7dd4",
   "metadata": {},
   "source": [
    "## **Sayıları temsil etmek**\n"
   ]
  },
  {
   "cell_type": "markdown",
   "id": "c6827c52",
   "metadata": {},
   "source": [
    "- Bir odadaki insan sayısını saymak için parmaklarımızı birer birer kullanarak başlayabiliriz. Bu sisteme **unary** denir, burada her basamak birin tek bir değerini temsil eder.\n",
    "- Daha yüksek sayılara saymak için, **decimal** adı verilen bir sistemle 0'dan 9'a kadar on basamak kullanabiliriz.\n",
    "- Bilgisayarlar, 0 ve 1 olmak üzere yalnızca iki basamaklı, **binary** adı verilen daha basit bir sistem kullanır."
   ]
  },
  {
   "cell_type": "markdown",
   "id": "d4d1e41f",
   "metadata": {},
   "source": [
    "Örneğin, **binary** sistemde bu 0 olur:"
   ]
  },
  {
   "cell_type": "raw",
   "id": "0c6be3ea",
   "metadata": {},
   "source": [
    "0 0 0"
   ]
  },
  {
   "cell_type": "markdown",
   "id": "6486b85b",
   "metadata": {},
   "source": [
    "Ve **binary** sistemde bu 1 olurdu:"
   ]
  },
  {
   "cell_type": "raw",
   "id": "b82fadb0",
   "metadata": {},
   "source": [
    "0 0 1"
   ]
  },
  {
   "cell_type": "markdown",
   "id": "4fe52e56",
   "metadata": {},
   "source": [
    "    (Baştaki sıfırlara ihtiyacımız yok, ancak deseni daha kolay görmek için onları ekleyeceğiz.)"
   ]
  },
  {
   "cell_type": "markdown",
   "id": "bd54b778",
   "metadata": {},
   "source": [
    "**2 rakamı olmadığından** , bir sonraki sayıyı temsil etmek için başka bir rakamı değiştirmemiz gerekecek:\n"
   ]
  },
  {
   "cell_type": "raw",
   "id": "eba28950",
   "metadata": {},
   "source": [
    "0 1 0"
   ]
  },
  {
   "cell_type": "markdown",
   "id": "9e90b992",
   "metadata": {},
   "source": [
    "Ve sırasıyla: **3,4,5,6,7:**"
   ]
  },
  {
   "cell_type": "raw",
   "id": "df2b4889",
   "metadata": {},
   "source": [
    "0 1 1 , 1 0 0 , 1 0 1 , 1 1 0 , 1 1 1"
   ]
  },
  {
   "cell_type": "markdown",
   "id": "db488011",
   "metadata": {},
   "source": [
    "NOT : Değerlerin ne ifade ettiğini **anlamadıysanız;**\n",
    "\n",
    "**Sağdan başlayarak** örneğin **1 1 0**:\n",
    "    \n",
    "$0 = 0 x 2^0 , 1 = 1 x 2^1 , 1 = 1 x 2 ^2 = 0 + 2 + 4 = 6 $"
   ]
  },
  {
   "cell_type": "markdown",
   "id": "58c4792c",
   "metadata": {},
   "source": [
    "Her **binary** basamak aynı zamanda **bit** olarak da adlandırılır.\n",
    "\n",
    "Bilgisayarlar, açılıp kapatılabilen devrelerle çalıştığından, **0 veya 1'i** temsil etmek için bazı anahtarları açıp kapatarak temsil edebiliriz.\n",
    "**1 = açık , 0 = kapalı**\n",
    "\n",
    "Modern bilgisayarların içinde, farklı değerleri temsil etmek için açılıp kapatılabilen, **transistors** adı verilen milyarlarca küçük anahtar vardır.\n"
   ]
  },
  {
   "cell_type": "markdown",
   "id": "6b961030",
   "metadata": {},
   "source": [
    "## **Yazılar**\n"
   ]
  },
  {
   "cell_type": "markdown",
   "id": "695de025",
   "metadata": {},
   "source": [
    "Yazıları temsil etmek için tek yapmamız gereken, **sayıların harflerle nasıl eşleştiğine karar vermektir**. Bazı insanlar, yıllar önce, toplu olarak sayıların harflerle haritalanmasına karar verdiler. Örneğin \"A\" harfi 65 sayısıdır ve \"B\" 66'dır. binary sistem olarak, \"A\" harfi 01000001 desenidir. Dosya biçimi gibi bağlam kullanarak, farklı programlar **sayı veya metin ile aynı bitleri yorumlayabilir ve görüntüleyebilir.**\n",
    "\n",
    "Standart eşleme, [ASCII](https://tr.wikipedia.org/wiki/ASCII) ayrıca küçük harfler ve noktalama işaretleri içerir."
   ]
  },
  {
   "cell_type": "markdown",
   "id": "388965a7",
   "metadata": {},
   "source": [
    "Bir metin mesajı aldığımızda, ondalık değer 72, 73 ve 33'e sahip bit kalıpları alıyor olabiliriz. Ve aldığımız bit dizileri, her karakter için 8 bit ile 01001000, 01001001 ve 00100001 gibi görünecektir.\n",
    "\n",
    "Sekiz bit veya bir bayt ile $2^8$veya 256 farklı değere sahip olabiliriz (sıfır dahil). (Sayabileceğimiz en yüksek değer 255 olurdu.)\n",
    "\n",
    "Milyonlarca veya milyarlarca bayt için **megabayt veya gigabayt** olarak veri için bir ölçüm birimi olarak bayt kullanmaya zaten aşina olabiliriz.\n",
    "\n",
    "Aksan işaretli harfler ve diğer dillerdeki semboller gibi diğer karakterler, tüm bu karakterleri barındırmak için ASCII'den daha fazla bit kullanan [Unicode](https://tr.wikipedia.org/wiki/Unicode) adı verilen bir standardın parçasıdır."
   ]
  },
  {
   "cell_type": "markdown",
   "id": "332581f0",
   "metadata": {},
   "source": [
    "Bir emoji aldığımızda, bilgisayarımız aslında sadece **binary** olarak bir sayı alıyor ve daha sonra **Unicode** standardına dayalı olarak emojinin görüntüsüyle eşleşiyor.\n",
    "\n",
    "Örneğin, \"maskeli yüz\" emojisi yalnızca dört bayt **11110000 10011111 10011000 10110111**'dir:\n",
    "\n",
    "<img src=\"images/medical_mask.png\" style=\"width:400px;height:200px\"/>"
   ]
  },
  {
   "cell_type": "markdown",
   "id": "ed73a7c9",
   "metadata": {},
   "source": [
    "## **Görüntüler, videolar, sesler**\n"
   ]
  },
  {
   "cell_type": "markdown",
   "id": "3f235a7d",
   "metadata": {},
   "source": [
    "Bitlerle sayıları renklere de eşleyebiliriz. Renkleri temsil etmek için birçok farklı sistem vardır, ancak yaygın olanı, her rengin içindeki **kırmızı, yeşil ve mavi** miktarını belirterek renkleri temsil eden **RGB**'dir.\n",
    "\n",
    "Örneğin, daha önceki bit desenimiz, **72, 73 ve 33**, bir renkte kırmızı, yeşil ve mavi miktarını gösterebilir. (Ve bir resim dosyası açarsak, bunları bir kısa mesajla almanın aksine bu bitlerin bir renge eşleşmesini bilir.)\n",
    "\n",
    "Her sayı, 256 olası değerle 8 bit olabilir, bu nedenle üç bayt veya 24 bit ile milyonlarca rengi temsil edebiliriz. Yukarıdaki üç baytımız sarının koyu bir tonunu temsil eder:<img src=\"images/72_73_33.png\" style=\"width:50px;height:50px\"/>\n",
    "\n",
    "\n"
   ]
  },
  {
   "cell_type": "markdown",
   "id": "ae0947cd",
   "metadata": {},
   "source": [
    "Ekranlarımızdaki noktalar veya kareler piksel olarak adlandırılır ve görüntüler binlerce veya milyonlarca pikselden oluşur.\n",
    "\n",
    "Bu nedenle, her piksel için rengi temsil etmek için **üç bayt** kullanarak görüntüler oluşturabiliriz. Örneğin, yakınlaştırırsak bir emojide pikselleri görebiliriz:\n",
    "<img src=\"images/emoji_zoomed.png\" style=\"width:400px;height:150px\"/>"
   ]
  },
  {
   "cell_type": "markdown",
   "id": "96eb9a2a",
   "metadata": {},
   "source": [
    "- Videolar, bir [flipbook](https://www.youtube.com/watch?v=sz78_07Xg-U)'un yapabileceği gibi, bize **hareket görünümü vermek** için saniyede birden çok kez değişen birçok görüntünün dizileridir.\n",
    "\n",
    "- Müzik de bitlerle temsil edilebilir. [MIDI](https://tr.wikipedia.org/wiki/M%C3%BCzik_Enstr%C3%BCmanlar%C4%B1_Dijital_Arabirimi), **notaların her biri için sayılar ve bunların süresi ve hacmi ile müziği temsil eden** böyle bir formattır.\n",
    "\n",
    "- Yani tüm bu fikirler sadece sıfırlar ve birler, onları istediğimiz şekilde yorumlamak için yazdığımız yazılım tarafından yorumlanır ve kullanılır.\n",
    "\n",
    "    - Bazıları sıkıştırma kullanan (bazı verileri **daha az bitle temsil etmenin matematiksel yolları**) veya bazıları **birden çok veri türünü bir arada depolayan kaplar,kapsayıcılar** olabilen başka biçimler de vardır.\n",
    "\n",
    "    - Ve yazılım geliştiren birçok şirket ve grup olduğundan, her biri kendi verileri temsil etme yollarına sahip birçok farklı dosya formatımız var. Ancak, **Unicode standardını korumaktan sorumlu** olan gibi bazı fikir birliği üzerinde çalışan kuruluşlar da vardır."
   ]
  },
  {
   "cell_type": "markdown",
   "id": "b9a26e0f",
   "metadata": {},
   "source": [
    "## **Algoritma**"
   ]
  },
  {
   "cell_type": "markdown",
   "id": "1f874d3c",
   "metadata": {},
   "source": [
    "Artık girdileri ve çıktıları temsil edebildiğimize göre, problem çözme üzerinde çalışabiliriz. Girdileri çıktılara dönüştüren kara kutu, problemlerin çözümü için **algoritmalar**, adım adım talimatlar içerir: <img src=\"images/algorithms.png\" style=\"width:200px;height:200px\"/>\n"
   ]
  },
  {
   "cell_type": "markdown",
   "id": "f79c515a",
   "metadata": {},
   "source": [
    "Telefonlarımızda, isimlerini ve telefon numaralarını alfabetik olarak sıralanmış olarak kişilerimizi saklayan bir uygulamamız olabilir. Eski usul eşdeğeri bir telefon rehberi, isimlerin ve telefon numaralarının basılı bir kopyası olabilir.\n",
    "\n",
    "- **Kitabı açıp ilk sayfadan başlayarak her seferinde bir sayfa isim arayarak** başlayabiliriz. Bu algoritma **doğru olurdu, çünkü kitapta varsa, sonunda adı bulacağız.**\n",
    "\n",
    "- Kitabı bir seferde **iki sayfa çevirebiliriz**, ancak bu algoritma, **adımızın olduğu sayfayı atlayabileceğimiz için doğru olmayacaktır.**\n",
    "\n",
    "- Başka bir algoritma telefon defterini **ortaya açmak, ismimizin kitabın sol yarısında mı yoksa sağ yarısında mı olduğuna karar verir** (çünkü kitap alfabetiktir) ve problemimizin boyutunu **yarı yarıya azaltır.** Sorunu her seferinde **ikiye bölerek ismimizi bulana kadar bunu tekrarlayabiliriz.**\n",
    "\n",
    "Bu algoritmaların her birinin **verimliliğini** bir grafikle görselleştirebiliriz:<img src=\"images/time_to_solve.png\" style=\"width:400px;height:250px\"/>\n",
    "\n",
    "- İlk algoritmamız, her seferinde bir sayfa arayan, **kırmızı çizgi** ile temsil edilebilir: **sorunun boyutu arttıkça çözme zamanımız doğrusal olarak artar** **N**, *sorunun büyüklüğünü temsil eden* bir sayıdır, bu nedenle telefon kitaplarımızdaki **N** sayfalarıyla, bir isim bulmak için **n adımları** atmalıyız.\n",
    "\n",
    "- Bir seferde iki sayfa arayan ikinci algoritma **sarı çizgiyle** temsil edilebilir: **eğimimiz daha az dik, ancak yine de doğrusal.** Şimdi, bir seferde iki sayfa çevirdiğimiz için sadece (kabaca) $n / 2$ adıma ihtiyacımız var.\n",
    "\n",
    "- Son algoritmamız, telefon defterini her seferinde yarıya bölmek, **sorunun büyüklüğü ile çözme zamanı arasında temelde farklı bir ilişki ile yeşil çizgi ile temsil edilebilir.** Telefon defteri **1000'den 2000 sayfaya iki katına çıkarsa, ismimizi bulmak için sadece bir adıma daha ihtiyacımız olacaktı.**"
   ]
  },
  {
   "cell_type": "markdown",
   "id": "0bca3b50",
   "metadata": {},
   "source": [
    "## **Pseudocode, Sözde Kod**\n"
   ]
  },
  {
   "cell_type": "markdown",
   "id": "995e26dd",
   "metadata": {},
   "source": [
    "Algoritmamızın bir temsili olan **sözde kodu** İngilizce (veya başka bir insan dilinde) yazabiliriz:\n"
   ]
  },
  {
   "cell_type": "raw",
   "id": "54337baf",
   "metadata": {},
   "source": [
    "1  Pick up phone book\n",
    "2  Open to middle of phone book\n",
    "3  Look at page\n",
    "4  If person is on page\n",
    "5      Call person\n",
    "6  Else if person is earlier in book\n",
    "7      Open to middle of left half of book\n",
    "8      Go back to line 3\n",
    "9  Else if person is later in book\n",
    "10     Open to middle of right half of book\n",
    "11     Go back to line 3\n",
    "12 Else\n",
    "13     Quit"
   ]
  },
  {
   "cell_type": "markdown",
   "id": "4c8a4084",
   "metadata": {},
   "source": [
    "Bu adımlarla **orta sayfayı kontrol ediyor, ne yapacağımıza karar veriyor ve tekrarlıyoruz**,Kişi sayfada değilse ve kitapta başka sayfa kalmamışsa **dururuz.**\n",
    "Ve burda **son olayı** hatırlamak özellikle önemlidir.\n",
    "\n",
    "Programlar veya kodlar bu **son durumu** içermediğinde, **donuyor veya yanıt vermiyor** gibi görünebilir veya **herhangi bir ilerleme kaydetmeden aynı işi tekrar tekrar yapmaya devam edebilirler.**\n",
    "\n"
   ]
  },
  {
   "cell_type": "markdown",
   "id": "8ee78120",
   "metadata": {},
   "source": [
    "Bu satırlardan bazıları, **daha küçük bir sorunu çözen eylemler veya fiillerle** başlar. Bu işlevleri çağırmaya başlayacağız: ( Kalın olanlar )\n",
    "\n",
    "Ayrıca, koşullu diyeceğimiz yoldaki çatallar gibi farklı yollara giden dallarımız da var: ( Kalın - İtalik olanlar )\n",
    "\n",
    "Ve nereye gideceğimize karar veren sorulara, sonunda evet veya hayır veya doğru veya yanlış yanıtlarıyla sonuçlanan Boole ifadeleri denir: ( Kırmızı renkli olanlar )\n",
    "\n",
    "Son olarak, programımızın döngü adı verilen kısımlarını tekrarlayabileceğimiz döngüler oluşturan kelimelerimiz var: ( Mavi renkli olanlar )\n"
   ]
  },
  {
   "cell_type": "markdown",
   "id": "7eea4ea1",
   "metadata": {},
   "source": [
    "1  **Pick up** phone book\n",
    "\n",
    "2  **Open to** middle of phone book\n",
    "\n",
    "3  **Look at** page\n",
    "\n",
    "4  ***If*** <font color=\"red\">person is on page</font>\n",
    "\n",
    "5      **Call** person\n",
    "\n",
    "6  ***Else if*** <font color=\"red\">person is earlier in book</font>\n",
    "\n",
    "7      **Open to** middle of left half of book\n",
    "\n",
    "8      <font color=\"blue\">Go back to line 3</font>\n",
    "\n",
    "9 ***Else if*** <font color=\"red\">person is later in book</font>\n",
    "\n",
    "10     **Open to** middle of right half of book\n",
    "\n",
    "11     <font color=\"blue\">Go back to line 3</font>\n",
    "\n",
    "12 ***Else***\n",
    "\n",
    "13    **Quit**"
   ]
  },
  {
   "cell_type": "markdown",
   "id": "a0ca33a8",
   "metadata": {},
   "source": [
    "We’ll soon encounter other ideas, too:\n",
    "- fonksiyonlar\n",
    "    - argümanlar, dönüş değerleri\n",
    "- şartlılar\n",
    "- boolean  ifadeleri (True, False)\n",
    "- döngüler\n",
    "- değişkenler\n",
    "- …"
   ]
  },
  {
   "cell_type": "markdown",
   "id": "706bb5d2",
   "metadata": {},
   "source": [
    "Ve **David J. Malan'in** ilk programı ekrana **\"merhaba, dünya\"** yazdırdı:\n",
    "\n",
    "Ancak C adlı bir dilde yazılan bu program, bizi bu temel fikirlere odaklanmaktan alıkoyan **birçok başka sözdizimine** sahiptir.\n"
   ]
  },
  {
   "cell_type": "raw",
   "id": "103bc81c",
   "metadata": {},
   "source": [
    "#include <stdio.h>\n",
    "\n",
    "int main(void)\n",
    "{\n",
    "    printf(\"hello, world\\n\");\n",
    "}"
   ]
  },
  {
   "cell_type": "raw",
   "id": "7e34f994",
   "metadata": {},
   "source": [
    "hello, world"
   ]
  },
  {
   "cell_type": "markdown",
   "id": "89c8f8ae",
   "metadata": {},
   "source": [
    "## **Scratch temelleri**"
   ]
  },
  {
   "cell_type": "markdown",
   "id": "3ef27de3",
   "metadata": {},
   "source": [
    "Talimatları içeren blokları sürükleyip bırakacağımız [Scratch](https://scratch.mit.edu/) adlı bir grafik programlama dili ile programlamaya başlayacağız.\n",
    "\n",
    "Scratch için **programlama ortamı** biraz daha kolay:<img src=\"scratch.png\" style=\"width:800px;height:450px\"/>\n"
   ]
  },
  {
   "cell_type": "markdown",
   "id": "41219f43",
   "metadata": {},
   "source": [
    "- Sol tarafta, merkezdeki büyük alana sürükleyip bırakabileceğimiz, **işlevleri veya değişkenleri veya diğer kavramları** temsil eden yapboz parçaları var.\n",
    "- Sağ altta, programımızın kullanması için **daha fazla karakter veya alan** ekleyebiliriz.\n",
    "- Sağ üstte bir sahnemiz ya da programımızın **göstereceği dünya var.**\n",
    "\n",
    "\n"
   ]
  },
  {
   "cell_type": "markdown",
   "id": "a6599670",
   "metadata": {},
   "source": [
    "Scratch'teki dünya, **nesneleri ekranda konumlandırmak için koordinat tabanlı bir sisteme** sahiptir:<img src=\"images/coordinates.png\" style=\"width:600px;height:450px\"/>\n"
   ]
  },
  {
   "cell_type": "markdown",
   "id": "3ac10897",
   "metadata": {},
   "source": [
    "- Ekranın merkezi **x için 0 ve y için 0** koordinatıdır ve ekranın üstü **x için 0 ve y için 180** olur. Ekranın alt kısmı hala **x için 0 ve y için -180** olacaktır.\n",
    "- Ekranın solu **x için -240 ve y için 0** olur ve ekranın sağı **x için 240 ve y için 0** olur.\n"
   ]
  },
  {
   "cell_type": "markdown",
   "id": "27263459",
   "metadata": {},
   "source": [
    "- Scratch ayrıca, her biri bir işlev, koşullu veya daha fazlası olabilen parçalarını kategorize eder:\n",
    "\n",
    "    - \"Hareket\" kategorisi, **bir şeyler yapacak olan \"hareket\" bloğu** gibi işlevlere sahiptir:\n",
    "    - \"Etkinlikler\" kategorisinde, **sahnenin üstündeki yeşil bayrak tıklandığında olduğu gibi** bir şey olduğunda etkinleşecek blokları görebiliriz:\n",
    "    - \"Kontrol\", her biri yalnızca içindeki **Boolean ifadesi doğruysa bir şeyler yapacak** olan koşullara sahiptir:\n",
    "    - \"Algılama\", **Boolean ifadelerini veya hareketli grafiğin fare işaretçisine dokunup dokunmadığı** gibi soruları içerir:\n",
    "    - \"Operatörler\", **matematik yapmamıza veya rastgele sayılar seçmemize veya birden çok Boole ifadesini birleştirmemize** izin veren bloklar içerir:\n",
    "    - “Değişkenler”, **kelimeler veya sayılar gibi değerleri saklamamıza ve bunları tanımlamak için x, y veya diğer isimlerle kaydetmemize** izin verecektir.\n",
    "    - Hatta “Bloklarım” ile **birden fazla bloğu kendimiz yeni bir yapboz parçasında veya işlevinde** birleştirebiliriz.\n",
    "\n",
    "\n",
    "\n"
   ]
  },
  {
   "cell_type": "markdown",
   "id": "76931e69",
   "metadata": {},
   "source": [
    "- \"Join\" bloğunun **yalnızca bir değil, iki argüman veya girdi aldığını ve çıktısının veya birleşik ifadenin hemen başka bir işlevin, \"say\" bloğunun girdisi olarak kullanıldığını** unutmayın:<img src=\"images/join_say.png\" style=\"width:900px;height:200px\"/>\n",
    "\n",
    "\n",
    " - Scratch programını **daha detaylı incelemek** için [Scratch](https://scratch.mit.edu/) linkine tıklayıp programı indirip,bloklar yerleştirmeyi deneyin.\n"
   ]
  },
  {
   "cell_type": "markdown",
   "id": "162c28d6",
   "metadata": {},
   "source": [
    "## **PSET Açıklaması ve PSET0 Örneği**"
   ]
  },
  {
   "cell_type": "markdown",
   "id": "eba8b41d",
   "metadata": {},
   "source": [
    "- PSET : Problem Setleri, neredeyse her dersin sonunda o ders ve öncesinde verilen derslerde öğrendiğiniz şeyleri pratiğe dökebileceğiniz uygulamalardır.\n",
    "    \n",
    "    - İlk olarak açıklamada verilen [Buraya tıklayınız](https://cs50.harvard.edu/x/2022/psets/0/scratch/#step-2-of-2) kısımdaki şartları yerine getirmelisiniz.\n",
    "    - Daha sonra açıklamada verilen [Buraya tıklayınız](https://cs50.harvard.edu/x/2022/psets/0/scratch/#scratch) kısımdaki program şartlarını yerine getirip, programı [Github](https://github.com/) üzerinden göndermeniz gerekli.\n",
    "\n",
    "**PSET0 Örneği :** [PSET0 Örneği](https://we.tl/t-80omKvVe98) linkinden .sb3 uzantılı \"Scratch3\" (week0_Scratch_ornegi.sb3) dosyasını indirip, **ne yapılması gerektiğini inceleyebilirsiniz.**"
   ]
  }
 ],
 "metadata": {
  "kernelspec": {
   "display_name": "Python 3 (ipykernel)",
   "language": "python",
   "name": "python3"
  },
  "language_info": {
   "codemirror_mode": {
    "name": "ipython",
    "version": 3
   },
   "file_extension": ".py",
   "mimetype": "text/x-python",
   "name": "python",
   "nbconvert_exporter": "python",
   "pygments_lexer": "ipython3",
   "version": "3.9.12"
  }
 },
 "nbformat": 4,
 "nbformat_minor": 5
}
